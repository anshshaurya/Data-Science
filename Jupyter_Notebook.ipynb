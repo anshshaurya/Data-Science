{
 "cells": [
  {
   "cell_type": "markdown",
   "metadata": {},
   "source": [
    "<center>\n",
    "    <img src=\"https://s3-api.us-geo.objectstorage.softlayer.net/cf-courses-data/CognitiveClass/Logos/organization_logo/organization_logo.png\" width=\"300\" alt=\"cognitiveclass.ai logo\"  />\n",
    "</center>\n"
   ]
  },
  {
   "cell_type": "markdown",
   "metadata": {},
   "source": [
    "#### Add your code below following the instructions given in the course\n"
   ]
  },
  {
   "cell_type": "markdown",
   "metadata": {},
   "source": [
    "# My Jupyter Notebook on IBM Watson Studio"
   ]
  },
  {
   "cell_type": "markdown",
   "metadata": {},
   "source": [
    "**Shaurya Kumar** <br/>\n",
    "Spark Scala Developer at IBM"
   ]
  },
  {
   "cell_type": "markdown",
   "metadata": {},
   "source": [
    "*I am interested in data science because <br/>\n",
    "I would love to contribute towards healthcare sector for affordable and quality healthcare. <br/>\n",
    "I would love to contribute towards IT sector in creating quality software and reducing human errors.*"
   ]
  },
  {
   "cell_type": "markdown",
   "metadata": {},
   "source": [
    "### Below code will print Hello World and Addition"
   ]
  },
  {
   "cell_type": "code",
   "execution_count": 4,
   "metadata": {},
   "outputs": [
    {
     "name": "stdout",
     "output_type": "stream",
     "text": [
      "Hello World!\n",
      "25\n"
     ]
    }
   ],
   "source": [
    "print(\"Hello World!\")\n",
    "print(10+15)"
   ]
  },
  {
   "cell_type": "markdown",
   "metadata": {},
   "source": [
    "<a href=www.google.com> Google Hyperlink </a> \n",
    "<br>\n",
    "- Bulleted list1\n",
    "- Bulleted list2 \n",
    "<br>\n",
    "<ol>\n",
    "  <li>Ordered list : First item</li>\n",
    "  <li>Second item</li>\n",
    "  <li>Third item</li>\n",
    "  <li>Fourth item</li>\n",
    "</ol> \n",
    "<br/>\n",
    "Table:\n",
    "<table>\n",
    "    <tr>\n",
    "        <td> a1 </td>\n",
    "        <td> a2 </td>\n",
    "    </tr>\n",
    "    <tr>\n",
    "        <td> b1 </td>\n",
    "        <td> b2 </td>\n",
    "    </tr>\n",
    " </table>\n"
   ]
  }
 ],
 "metadata": {
  "kernelspec": {
   "display_name": "Python",
   "language": "python",
   "name": "conda-env-python-py"
  },
  "language_info": {
   "codemirror_mode": {
    "name": "ipython",
    "version": 3
   },
   "file_extension": ".py",
   "mimetype": "text/x-python",
   "name": "python",
   "nbconvert_exporter": "python",
   "pygments_lexer": "ipython3",
   "version": "3.7.12"
  }
 },
 "nbformat": 4,
 "nbformat_minor": 4
}
